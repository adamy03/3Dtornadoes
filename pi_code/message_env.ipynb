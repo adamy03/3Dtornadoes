{
 "cells": [
  {
   "cell_type": "code",
   "execution_count": 1,
   "metadata": {},
   "outputs": [
    {
     "name": "stdout",
     "output_type": "stream",
     "text": [
      "Collecting ifaddr\n",
      "  Downloading ifaddr-0.2.0-py3-none-any.whl.metadata (4.9 kB)\n",
      "Downloading ifaddr-0.2.0-py3-none-any.whl (12 kB)\n",
      "Installing collected packages: ifaddr\n",
      "Successfully installed ifaddr-0.2.0\n",
      "Note: you may need to restart the kernel to use updated packages.\n"
     ]
    }
   ],
   "source": [
    "%pip install ifaddr"
   ]
  },
  {
   "cell_type": "code",
   "execution_count": 4,
   "metadata": {},
   "outputs": [
    {
     "name": "stdout",
     "output_type": "stream",
     "text": [
      "Could not resolve Raspberry Pi hostname1 for rpitest1.local\n",
      "Could not resolve Raspberry Pi hostname2 for rpitest2.local\n",
      "Could not resolve Raspberry Pi hostname3 for rpitest3.local\n"
     ]
    },
    {
     "ename": "KeyboardInterrupt",
     "evalue": "",
     "output_type": "error",
     "traceback": [
      "\u001b[1;31m---------------------------------------------------------------------------\u001b[0m",
      "\u001b[1;31mgaierror\u001b[0m                                  Traceback (most recent call last)",
      "Cell \u001b[1;32mIn[4], line 9\u001b[0m\n\u001b[0;32m      7\u001b[0m \u001b[38;5;28;01mtry\u001b[39;00m:\n\u001b[0;32m      8\u001b[0m     \u001b[38;5;66;03m# Get the IP address of the Raspberry Pi\u001b[39;00m\n\u001b[1;32m----> 9\u001b[0m     ip_address \u001b[38;5;241m=\u001b[39m \u001b[43msocket\u001b[49m\u001b[38;5;241;43m.\u001b[39;49m\u001b[43mgethostbyname\u001b[49m\u001b[43m(\u001b[49m\u001b[43mhostname\u001b[49m\u001b[43m)\u001b[49m\n\u001b[0;32m     10\u001b[0m     \u001b[38;5;28mprint\u001b[39m(\u001b[38;5;124mf\u001b[39m\u001b[38;5;124m\"\u001b[39m\u001b[38;5;124mRaspberry Pi\u001b[39m\u001b[38;5;132;01m{\u001b[39;00mi\u001b[38;5;132;01m}\u001b[39;00m\u001b[38;5;124m IP address: \u001b[39m\u001b[38;5;132;01m{\u001b[39;00mip_address\u001b[38;5;132;01m}\u001b[39;00m\u001b[38;5;124m\"\u001b[39m)\n",
      "\u001b[1;31mgaierror\u001b[0m: [Errno 11001] getaddrinfo failed",
      "\nDuring handling of the above exception, another exception occurred:\n",
      "\u001b[1;31mKeyboardInterrupt\u001b[0m                         Traceback (most recent call last)",
      "Cell \u001b[1;32mIn[4], line 13\u001b[0m\n\u001b[0;32m     11\u001b[0m     \u001b[38;5;28;01mbreak\u001b[39;00m\n\u001b[0;32m     12\u001b[0m \u001b[38;5;28;01mexcept\u001b[39;00m socket\u001b[38;5;241m.\u001b[39mgaierror:\n\u001b[1;32m---> 13\u001b[0m     \u001b[38;5;28mprint\u001b[39m(\u001b[38;5;124mf\u001b[39m\u001b[38;5;124m\"\u001b[39m\u001b[38;5;124mCould not resolve Raspberry Pi hostname\u001b[39m\u001b[38;5;132;43;01m{\u001b[39;49;00m\u001b[43mi\u001b[49m\u001b[38;5;132;43;01m}\u001b[39;49;00m\u001b[38;5;124m for \u001b[39m\u001b[38;5;132;01m{\u001b[39;00mhostname\u001b[38;5;132;01m}\u001b[39;00m\u001b[38;5;124m\"\u001b[39m)\n\u001b[0;32m     14\u001b[0m     \u001b[38;5;28;01mbreak\u001b[39;00m\n",
      "\u001b[1;31mKeyboardInterrupt\u001b[0m: "
     ]
    }
   ],
   "source": [
    "import socket\n",
    "# for i in range(1, 2):\n",
    "pi_ids = [1, 2, 3, 6, 7, 8, 9]\n",
    "for i in pi_ids:\n",
    "    hostname = f\"rpitest{i}.local\"\n",
    "    while True:\n",
    "        try:\n",
    "            # Get the IP address of the Raspberry Pi\n",
    "            ip_address = socket.gethostbyname(hostname)\n",
    "            print(f\"Raspberry Pi{i} IP address: {ip_address}\")\n",
    "            break\n",
    "        except socket.gaierror:\n",
    "            print(f\"Could not resolve Raspberry Pi hostname{i} for {hostname}\")\n",
    "            break"
   ]
  },
  {
   "cell_type": "code",
   "execution_count": 2,
   "metadata": {},
   "outputs": [
    {
     "name": "stdout",
     "output_type": "stream",
     "text": [
      "Recording for 3 seconds...\n",
      "Could not resolve Raspberry Pi hostname1 for rpitest1.local\n",
      "Could not resolve Raspberry Pi hostname1 for rpitest1.local\n",
      "Could not resolve Raspberry Pi hostname1 for rpitest1.local\n",
      "Could not resolve Raspberry Pi hostname1 for rpitest1.local\n",
      "Could not resolve Raspberry Pi hostname1 for rpitest1.local\n",
      "Could not resolve Raspberry Pi hostname1 for rpitest1.local\n",
      "Could not resolve Raspberry Pi hostname1 for rpitest1.local\n",
      "Could not resolve Raspberry Pi hostname1 for rpitest1.local\n",
      "Could not resolve Raspberry Pi hostname1 for rpitest1.local\n",
      "Could not resolve Raspberry Pi hostname1 for rpitest1.local\n",
      "Could not resolve Raspberry Pi hostname1 for rpitest1.local\n",
      "Could not resolve Raspberry Pi hostname1 for rpitest1.local\n",
      "Could not resolve Raspberry Pi hostname1 for rpitest1.local\n",
      "Could not resolve Raspberry Pi hostname1 for rpitest1.local\n",
      "Could not resolve Raspberry Pi hostname1 for rpitest1.local\n",
      "Could not resolve Raspberry Pi hostname1 for rpitest1.local\n",
      "Could not resolve Raspberry Pi hostname1 for rpitest1.local\n",
      "Could not resolve Raspberry Pi hostname1 for rpitest1.local\n"
     ]
    },
    {
     "ename": "KeyboardInterrupt",
     "evalue": "",
     "output_type": "error",
     "traceback": [
      "\u001b[1;31m---------------------------------------------------------------------------\u001b[0m",
      "\u001b[1;31mgaierror\u001b[0m                                  Traceback (most recent call last)",
      "File \u001b[1;32m~\\Documents\\projects\\csml\\tornadoes\\pi_footage\\camera_code\\client.py:21\u001b[0m\n\u001b[0;32m     19\u001b[0m \u001b[38;5;28;01mtry\u001b[39;00m:\n\u001b[0;32m     20\u001b[0m     \u001b[38;5;66;03m# Get the IP address of the Raspberry Pi\u001b[39;00m\n\u001b[1;32m---> 21\u001b[0m     ip_address \u001b[38;5;241m=\u001b[39m \u001b[43msocket\u001b[49m\u001b[38;5;241;43m.\u001b[39;49m\u001b[43mgethostbyname\u001b[49m\u001b[43m(\u001b[49m\u001b[43mhostname\u001b[49m\u001b[43m)\u001b[49m\n\u001b[0;32m     22\u001b[0m     \u001b[38;5;28mprint\u001b[39m(\u001b[38;5;124mf\u001b[39m\u001b[38;5;124m\"\u001b[39m\u001b[38;5;124mRaspberry Pi\u001b[39m\u001b[38;5;132;01m{\u001b[39;00mi\u001b[38;5;132;01m}\u001b[39;00m\u001b[38;5;124m IP address: \u001b[39m\u001b[38;5;132;01m{\u001b[39;00mip_address\u001b[38;5;132;01m}\u001b[39;00m\u001b[38;5;124m\"\u001b[39m)\n",
      "\u001b[1;31mgaierror\u001b[0m: [Errno 11001] getaddrinfo failed",
      "\nDuring handling of the above exception, another exception occurred:\n",
      "\u001b[1;31mKeyboardInterrupt\u001b[0m                         Traceback (most recent call last)",
      "File \u001b[1;32m~\\Documents\\projects\\csml\\tornadoes\\pi_footage\\camera_code\\client.py:32\u001b[0m\n\u001b[0;32m     29\u001b[0m             \u001b[38;5;28;01mbreak\u001b[39;00m\n\u001b[0;32m     31\u001b[0m         \u001b[38;5;28;01mexcept\u001b[39;00m socket\u001b[38;5;241m.\u001b[39mgaierror:\n\u001b[1;32m---> 32\u001b[0m             \u001b[38;5;28mprint\u001b[39m(\u001b[38;5;124mf\u001b[39m\u001b[38;5;124m\"\u001b[39m\u001b[38;5;124mCould not resolve Raspberry Pi hostname\u001b[39m\u001b[38;5;132;43;01m{\u001b[39;49;00m\u001b[43mi\u001b[49m\u001b[38;5;132;43;01m}\u001b[39;49;00m\u001b[38;5;124m for \u001b[39m\u001b[38;5;132;01m{\u001b[39;00mhostname\u001b[38;5;132;01m}\u001b[39;00m\u001b[38;5;124m\"\u001b[39m)\n\u001b[0;32m     35\u001b[0m \u001b[38;5;66;03m# Send a message to the server\u001b[39;00m\n\u001b[0;32m     36\u001b[0m message \u001b[38;5;241m=\u001b[39m \u001b[38;5;28mstr\u001b[39m(num_seconds)\n",
      "\u001b[1;31mKeyboardInterrupt\u001b[0m: "
     ]
    }
   ],
   "source": [
    "%run client.py 3"
   ]
  },
  {
   "cell_type": "code",
   "execution_count": null,
   "metadata": {},
   "outputs": [],
   "source": []
  }
 ],
 "metadata": {
  "kernelspec": {
   "display_name": "base",
   "language": "python",
   "name": "python3"
  },
  "language_info": {
   "codemirror_mode": {
    "name": "ipython",
    "version": 3
   },
   "file_extension": ".py",
   "mimetype": "text/x-python",
   "name": "python",
   "nbconvert_exporter": "python",
   "pygments_lexer": "ipython3",
   "version": "3.12.3"
  }
 },
 "nbformat": 4,
 "nbformat_minor": 2
}
