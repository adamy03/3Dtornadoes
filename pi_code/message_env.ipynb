{
 "cells": [
  {
   "cell_type": "code",
   "execution_count": 2,
   "metadata": {},
   "outputs": [
    {
     "name": "stdout",
     "output_type": "stream",
     "text": [
      "Collecting ifaddrNote: you may need to restart the kernel to use updated packages.\n"
     ]
    },
    {
     "name": "stderr",
     "output_type": "stream",
     "text": [
      "\n",
      "[notice] A new release of pip is available: 23.0.1 -> 25.0.1\n",
      "[notice] To update, run: C:\\Users\\12404\\AppData\\Local\\Microsoft\\WindowsApps\\PythonSoftwareFoundation.Python.3.10_qbz5n2kfra8p0\\python.exe -m pip install --upgrade pip\n"
     ]
    },
    {
     "name": "stdout",
     "output_type": "stream",
     "text": [
      "\n",
      "  Downloading ifaddr-0.2.0-py3-none-any.whl (12 kB)\n",
      "Installing collected packages: ifaddr\n",
      "Successfully installed ifaddr-0.2.0\n"
     ]
    }
   ],
   "source": [
    "pip install ifaddr"
   ]
  },
  {
   "cell_type": "code",
   "execution_count": null,
   "metadata": {},
   "outputs": [
    {
     "name": "stdout",
     "output_type": "stream",
     "text": [
      "Could not resolve Raspberry Pi hostname1 for rpitest1.local\n",
      "Could not resolve Raspberry Pi hostname1 for rpitest1.local\n",
      "Could not resolve Raspberry Pi hostname1 for rpitest1.local\n",
      "Could not resolve Raspberry Pi hostname1 for rpitest1.local\n",
      "Could not resolve Raspberry Pi hostname1 for rpitest1.local\n",
      "Could not resolve Raspberry Pi hostname1 for rpitest1.local\n",
      "Could not resolve Raspberry Pi hostname1 for rpitest1.local\n",
      "Could not resolve Raspberry Pi hostname1 for rpitest1.local\n",
      "Could not resolve Raspberry Pi hostname1 for rpitest1.local\n",
      "Could not resolve Raspberry Pi hostname1 for rpitest1.local\n",
      "Could not resolve Raspberry Pi hostname1 for rpitest1.local\n",
      "Could not resolve Raspberry Pi hostname1 for rpitest1.local\n"
     ]
    },
    {
     "ename": "KeyboardInterrupt",
     "evalue": "",
     "output_type": "error",
     "traceback": [
      "\u001b[31m---------------------------------------------------------------------------\u001b[39m",
      "\u001b[31mgaierror\u001b[39m                                  Traceback (most recent call last)",
      "\u001b[36mCell\u001b[39m\u001b[36m \u001b[39m\u001b[32mIn[2]\u001b[39m\u001b[32m, line 7\u001b[39m\n\u001b[32m      5\u001b[39m \u001b[38;5;28;01mtry\u001b[39;00m:\n\u001b[32m      6\u001b[39m     \u001b[38;5;66;03m# Get the IP address of the Raspberry Pi\u001b[39;00m\n\u001b[32m----> \u001b[39m\u001b[32m7\u001b[39m     ip_address = \u001b[43msocket\u001b[49m\u001b[43m.\u001b[49m\u001b[43mgethostbyname\u001b[49m\u001b[43m(\u001b[49m\u001b[43mhostname\u001b[49m\u001b[43m)\u001b[49m\n\u001b[32m      8\u001b[39m     \u001b[38;5;28mprint\u001b[39m(\u001b[33mf\u001b[39m\u001b[33m\"\u001b[39m\u001b[33mRaspberry Pi\u001b[39m\u001b[38;5;132;01m{\u001b[39;00mi\u001b[38;5;132;01m}\u001b[39;00m\u001b[33m IP address: \u001b[39m\u001b[38;5;132;01m{\u001b[39;00mip_address\u001b[38;5;132;01m}\u001b[39;00m\u001b[33m\"\u001b[39m)\n",
      "\u001b[31mgaierror\u001b[39m: [Errno 11001] getaddrinfo failed",
      "\nDuring handling of the above exception, another exception occurred:\n",
      "\u001b[31mKeyboardInterrupt\u001b[39m                         Traceback (most recent call last)",
      "\u001b[36mCell\u001b[39m\u001b[36m \u001b[39m\u001b[32mIn[2]\u001b[39m\u001b[32m, line 10\u001b[39m\n\u001b[32m      8\u001b[39m     \u001b[38;5;28mprint\u001b[39m(\u001b[33mf\u001b[39m\u001b[33m\"\u001b[39m\u001b[33mRaspberry Pi\u001b[39m\u001b[38;5;132;01m{\u001b[39;00mi\u001b[38;5;132;01m}\u001b[39;00m\u001b[33m IP address: \u001b[39m\u001b[38;5;132;01m{\u001b[39;00mip_address\u001b[38;5;132;01m}\u001b[39;00m\u001b[33m\"\u001b[39m)\n\u001b[32m      9\u001b[39m \u001b[38;5;28;01mexcept\u001b[39;00m socket.gaierror:\n\u001b[32m---> \u001b[39m\u001b[32m10\u001b[39m     \u001b[38;5;28mprint\u001b[39m(\u001b[33mf\u001b[39m\u001b[33m\"\u001b[39m\u001b[33mCould not resolve Raspberry Pi hostname\u001b[39m\u001b[38;5;132;43;01m{\u001b[39;49;00m\u001b[43mi\u001b[49m\u001b[38;5;132;43;01m}\u001b[39;49;00m\u001b[33m for \u001b[39m\u001b[38;5;132;01m{\u001b[39;00mhostname\u001b[38;5;132;01m}\u001b[39;00m\u001b[33m\"\u001b[39m)\n",
      "\u001b[31mKeyboardInterrupt\u001b[39m: "
     ]
    }
   ],
   "source": [
    "# import socket\n",
    "# for i in range(1,2):\n",
    "#     hostname = f\"rpitest{i}.local\"\n",
    "#     while True:\n",
    "#         try:\n",
    "#             # Get the IP address of the Raspberry Pi\n",
    "#             ip_address = socket.gethostbyname(hostname)\n",
    "#             print(f\"Raspberry Pi{i} IP address: {ip_address}\")\n",
    "#         except socket.gaierror:\n",
    "#             print(f\"Could not resolve Raspberry Pi hostname{i} for {hostname}\")"
   ]
  },
  {
   "cell_type": "code",
   "execution_count": 2,
   "metadata": {},
   "outputs": [
    {
     "name": "stdout",
     "output_type": "stream",
     "text": [
      "Recording for 5 seconds...\n",
      "Raspberry Pi1 IP address: 192.168.43.196\n",
      "Could not resolve Raspberry Pi hostname2 for rpitest2.local\n",
      "Raspberry Pi2 IP address: 192.168.43.138\n",
      "Raspberry Pi3 IP address: 192.168.43.2\n",
      "Could not resolve Raspberry Pi hostname4 for rpitest4.local\n",
      "Raspberry Pi4 IP address: 192.168.43.62\n",
      "Could not resolve Raspberry Pi hostname5 for rpitest5.local\n",
      "Raspberry Pi5 IP address: 192.168.43.194\n",
      "Could not resolve Raspberry Pi hostname6 for rpitest6.local\n",
      "Could not resolve Raspberry Pi hostname6 for rpitest6.local\n",
      "Could not resolve Raspberry Pi hostname6 for rpitest6.local\n",
      "Raspberry Pi6 IP address: 192.168.43.172\n",
      "Raspberry Pi7 IP address: 192.168.43.21\n",
      "Raspberry Pi8 IP address: 192.168.43.29\n",
      "Raspberry Pi9 IP address: 192.168.43.57\n",
      "CMessage sent to rpi0\n",
      "CMessage sent to rpi1\n",
      "CMessage sent to rpi2\n",
      "CMessage sent to rpi3\n",
      "CMessage sent to rpi4\n",
      "CMessage sent to rpi5\n",
      "CMessage sent to rpi6\n",
      "CMessage sent to rpi7\n",
      "CMessage sent to rpi8\n",
      "Receiving the file...\n",
      "Received response from rpi1\n",
      "Receiving the file...\n",
      "Received response from rpi2\n",
      "Receiving the file...\n",
      "Received response from rpi3\n",
      "Receiving the file...\n",
      "Received response from rpi4\n",
      "Receiving the file...\n",
      "Received response from rpi5\n",
      "Receiving the file...\n",
      "Received response from rpi6\n",
      "Receiving the file...\n",
      "Received response from rpi7\n",
      "Receiving the file...\n",
      "Received response from rpi8\n",
      "Receiving the file...\n",
      "Received response from rpi9\n"
     ]
    }
   ],
   "source": [
    "%run client.py 5"
   ]
  }
 ],
 "metadata": {
  "kernelspec": {
   "display_name": "base",
   "language": "python",
   "name": "python3"
  },
  "language_info": {
   "codemirror_mode": {
    "name": "ipython",
    "version": 3
   },
   "file_extension": ".py",
   "mimetype": "text/x-python",
   "name": "python",
   "nbconvert_exporter": "python",
   "pygments_lexer": "ipython3",
   "version": "3.12.9"
  }
 },
 "nbformat": 4,
 "nbformat_minor": 2
}
